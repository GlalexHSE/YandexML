{
 "cells": [
  {
   "cell_type": "code",
   "execution_count": 5,
   "id": "8b1f49d4-9b85-4811-814e-9cbcf944c439",
   "metadata": {
    "execution": {
     "iopub.execute_input": "2025-03-06T17:31:18.515757Z",
     "iopub.status.busy": "2025-03-06T17:31:18.514877Z",
     "iopub.status.idle": "2025-03-06T17:31:20.950488Z",
     "shell.execute_reply": "2025-03-06T17:31:20.949627Z",
     "shell.execute_reply.started": "2025-03-06T17:31:18.515711Z"
    }
   },
   "outputs": [
    {
     "name": "stdout",
     "output_type": "stream",
     "text": [
      "Defaulting to user installation because normal site-packages is not writeable\n",
      "Requirement already satisfied: transformers in /home/jupyter/.local/lib/python3.10/site-packages (4.49.0)\n",
      "Requirement already satisfied: tokenizers in /home/jupyter/.local/lib/python3.10/site-packages (0.21.0)\n",
      "Requirement already satisfied: datasets in /home/jupyter/.local/lib/python3.10/site-packages (3.3.2)\n",
      "Requirement already satisfied: evaluate in /home/jupyter/.local/lib/python3.10/site-packages (0.4.3)\n",
      "Requirement already satisfied: accelerate in /home/jupyter/.local/lib/python3.10/site-packages (1.4.0)\n",
      "Requirement already satisfied: filelock in /usr/local/lib/python3.10/dist-packages (from transformers) (3.12.2)\n",
      "Requirement already satisfied: huggingface-hub<1.0,>=0.26.0 in /home/jupyter/.local/lib/python3.10/site-packages (from transformers) (0.29.2)\n",
      "Requirement already satisfied: numpy>=1.17 in /usr/local/lib/python3.10/dist-packages (from transformers) (1.22.4)\n",
      "Requirement already satisfied: packaging>=20.0 in /usr/local/lib/python3.10/dist-packages (from transformers) (23.1)\n",
      "Requirement already satisfied: pyyaml>=5.1 in /usr/local/lib/python3.10/dist-packages (from transformers) (6.0.1)\n",
      "Requirement already satisfied: regex!=2019.12.17 in /usr/local/lib/python3.10/dist-packages (from transformers) (2022.10.31)\n",
      "Requirement already satisfied: requests in /home/jupyter/.local/lib/python3.10/site-packages (from transformers) (2.32.3)\n",
      "Requirement already satisfied: safetensors>=0.4.1 in /home/jupyter/.local/lib/python3.10/site-packages (from transformers) (0.5.3)\n",
      "Requirement already satisfied: tqdm>=4.27 in /home/jupyter/.local/lib/python3.10/site-packages (from transformers) (4.67.1)\n",
      "Requirement already satisfied: pyarrow>=15.0.0 in /home/jupyter/.local/lib/python3.10/site-packages (from datasets) (19.0.1)\n",
      "Requirement already satisfied: dill<0.3.9,>=0.3.0 in /home/jupyter/.local/lib/python3.10/site-packages (from datasets) (0.3.8)\n",
      "Requirement already satisfied: pandas in /usr/local/lib/python3.10/dist-packages (from datasets) (1.5.3)\n",
      "Requirement already satisfied: xxhash in /home/jupyter/.local/lib/python3.10/site-packages (from datasets) (3.5.0)\n",
      "Requirement already satisfied: multiprocess<0.70.17 in /home/jupyter/.local/lib/python3.10/site-packages (from datasets) (0.70.16)\n",
      "Requirement already satisfied: fsspec<=2024.12.0,>=2023.1.0 in /usr/local/lib/python3.10/dist-packages (from fsspec[http]<=2024.12.0,>=2023.1.0->datasets) (2023.6.0)\n",
      "Requirement already satisfied: aiohttp in /usr/local/lib/python3.10/dist-packages (from datasets) (3.8.5)\n",
      "Requirement already satisfied: psutil in /kernel/lib/python3.10/site-packages (from accelerate) (6.0.0)\n",
      "Requirement already satisfied: torch>=2.0.0 in /usr/local/lib/python3.10/dist-packages (from accelerate) (2.0.1+cu118)\n",
      "Requirement already satisfied: attrs>=17.3.0 in /usr/local/lib/python3.10/dist-packages (from aiohttp->datasets) (23.1.0)\n",
      "Requirement already satisfied: charset-normalizer<4.0,>=2.0 in /usr/local/lib/python3.10/dist-packages (from aiohttp->datasets) (2.0.12)\n",
      "Requirement already satisfied: multidict<7.0,>=4.5 in /usr/local/lib/python3.10/dist-packages (from aiohttp->datasets) (6.0.4)\n",
      "Requirement already satisfied: async-timeout<5.0,>=4.0.0a3 in /usr/local/lib/python3.10/dist-packages (from aiohttp->datasets) (4.0.2)\n",
      "Requirement already satisfied: yarl<2.0,>=1.0 in /usr/local/lib/python3.10/dist-packages (from aiohttp->datasets) (1.9.2)\n",
      "Requirement already satisfied: frozenlist>=1.1.1 in /usr/local/lib/python3.10/dist-packages (from aiohttp->datasets) (1.4.0)\n",
      "Requirement already satisfied: aiosignal>=1.1.2 in /usr/local/lib/python3.10/dist-packages (from aiohttp->datasets) (1.3.1)\n",
      "Requirement already satisfied: typing-extensions>=3.7.4.3 in /usr/local/lib/python3.10/dist-packages (from huggingface-hub<1.0,>=0.26.0->transformers) (4.7.1)\n",
      "Requirement already satisfied: idna<4,>=2.5 in /usr/local/lib/python3.10/dist-packages (from requests->transformers) (3.4)\n",
      "Requirement already satisfied: urllib3<3,>=1.21.1 in /usr/local/lib/python3.10/dist-packages (from requests->transformers) (1.26.16)\n",
      "Requirement already satisfied: certifi>=2017.4.17 in /usr/local/lib/python3.10/dist-packages (from requests->transformers) (2023.7.22)\n",
      "Requirement already satisfied: sympy in /usr/local/lib/python3.10/dist-packages (from torch>=2.0.0->accelerate) (1.11.1)\n",
      "Requirement already satisfied: networkx in /usr/local/lib/python3.10/dist-packages (from torch>=2.0.0->accelerate) (3.1)\n",
      "Requirement already satisfied: jinja2 in /usr/local/lib/python3.10/dist-packages (from torch>=2.0.0->accelerate) (3.1.2)\n",
      "Requirement already satisfied: triton==2.0.0 in /usr/local/lib/python3.10/dist-packages (from torch>=2.0.0->accelerate) (2.0.0)\n",
      "Requirement already satisfied: cmake in /usr/local/lib/python3.10/dist-packages (from triton==2.0.0->torch>=2.0.0->accelerate) (3.25.2)\n",
      "Requirement already satisfied: lit in /usr/local/lib/python3.10/dist-packages (from triton==2.0.0->torch>=2.0.0->accelerate) (16.0.6)\n",
      "Requirement already satisfied: python-dateutil>=2.8.1 in /usr/local/lib/python3.10/dist-packages (from pandas->datasets) (2.8.2)\n",
      "Requirement already satisfied: pytz>=2020.1 in /usr/local/lib/python3.10/dist-packages (from pandas->datasets) (2022.7.1)\n",
      "Requirement already satisfied: six>=1.5 in /usr/lib/python3/dist-packages (from python-dateutil>=2.8.1->pandas->datasets) (1.16.0)\n",
      "Requirement already satisfied: MarkupSafe>=2.0 in /usr/local/lib/python3.10/dist-packages (from jinja2->torch>=2.0.0->accelerate) (2.1.3)\n",
      "Requirement already satisfied: mpmath>=0.19 in /usr/local/lib/python3.10/dist-packages (from sympy->torch>=2.0.0->accelerate) (1.3.0)\n",
      "\n",
      "\u001b[1m[\u001b[0m\u001b[34;49mnotice\u001b[0m\u001b[1;39;49m]\u001b[0m\u001b[39;49m A new release of pip is available: \u001b[0m\u001b[31;49m23.0.1\u001b[0m\u001b[39;49m -> \u001b[0m\u001b[32;49m25.0.1\u001b[0m\n",
      "\u001b[1m[\u001b[0m\u001b[34;49mnotice\u001b[0m\u001b[1;39;49m]\u001b[0m\u001b[39;49m To update, run: \u001b[0m\u001b[32;49mpython3 -m pip install --upgrade pip\u001b[0m\n"
     ]
    }
   ],
   "source": [
    "! install transformers tokenizers datasets evaluate accelerate"
   ]
  },
  {
   "cell_type": "code",
   "execution_count": 13,
   "id": "d998f39e-af31-4d26-855c-6648d390c1fc",
   "metadata": {
    "execution": {
     "iopub.execute_input": "2025-03-06T17:40:15.833486Z",
     "iopub.status.busy": "2025-03-06T17:40:15.832481Z",
     "iopub.status.idle": "2025-03-06T17:40:15.847319Z",
     "shell.execute_reply": "2025-03-06T17:40:15.846672Z",
     "shell.execute_reply.started": "2025-03-06T17:40:15.833442Z"
    },
    "tags": []
   },
   "outputs": [],
   "source": [
    "# Our dataset - \n",
    "urls = [\n",
    "    \"http://az.lib.ru/t/tolstoj_lew_nikolaewich/text_0039.shtml\",\n",
    "    \"http://az.lib.ru/t/tolstoj_lew_nikolaewich/text_0040.shtml\",\n",
    "    \"http://az.lib.ru/t/tolstoj_lew_nikolaewich/text_0050.shtml\",\n",
    "    \"http://az.lib.ru/t/tolstoj_lew_nikolaewich/text_0060.shtml\",\n",
    "    \"http://az.lib.ru/t/tolstoj_lew_nikolaewich/text_0070.shtml\",\n",
    "    \"http://az.lib.ru/t/tolstoj_lew_nikolaewich/text_0080.shtml\",\n",
    "    \"http://az.lib.ru/t/tolstoj_lew_nikolaewich/text_0090.shtml\",\n",
    "    \"http://az.lib.ru/t/tolstoj_lew_nikolaewich/text_1860_dekabristy.shtml\",\n",
    "]"
   ]
  },
  {
   "cell_type": "code",
   "execution_count": 15,
   "id": "138dea19-60a3-42b2-9d51-2b59a9a3f85b",
   "metadata": {
    "execution": {
     "iopub.execute_input": "2025-03-06T17:58:38.287606Z",
     "iopub.status.busy": "2025-03-06T17:58:38.286539Z",
     "iopub.status.idle": "2025-03-06T17:58:39.701123Z",
     "shell.execute_reply": "2025-03-06T17:58:39.700240Z",
     "shell.execute_reply.started": "2025-03-06T17:58:38.287566Z"
    },
    "tags": []
   },
   "outputs": [],
   "source": [
    "import html\n",
    "import re\n",
    "import requests\n",
    "\n",
    "# Выполняет http GET-запрос по url и возвращает текст ответа\n",
    "def download(url):\n",
    "    return requests.get(url).text\n",
    "\n",
    "striptags_re = re.compile(r\"(<!--.*?-->|<[^>]*>)\")\n",
    "entity_re = re.compile(r\"&([^;]+);\")\n",
    "\n",
    "# Удаляет html-теги с помощи регулярки (принимает строку)\n",
    "def to_text(s):\n",
    "    return html.unescape(striptags_re.sub(\"\", s))\n",
    "\n",
    "# Разбивает текст на строки, удаляет пустые строки и лишние пробелы. Ищет строку --> (конец HTML-комментария) и обрезает текст, начиная со следующей строки.\n",
    "def beautify(s):\n",
    "    lines = [x.strip() for x in s.split(\"\\n\") if x.strip() != \"\"]\n",
    "    for i in range(min(100, len(lines))):\n",
    "        if lines[i] == \"-->\":\n",
    "            break\n",
    "    return \"\\n\".join(lines[i + 1 :] if i < 100 else lines)\n",
    "\n",
    "# Создает файл dataset.txt для записи. Содержит  большой корпус текстов Льва Толстого.\n",
    "with open(\"dataset.txt\", \"w\", encoding=\"utf-8\") as f:\n",
    "    for u in urls:\n",
    "        text = beautify(to_text(download(u)))\n",
    "        f.write(text + \"\\n\\n\")"
   ]
  },
  {
   "cell_type": "code",
   "execution_count": null,
   "id": "beaf6648-3d82-489b-843c-ceff5d0d222b",
   "metadata": {},
   "outputs": [],
   "source": [
    "!:bash\n",
    "pragma dataset init mytext --size 1Gb\n",
    "cp dataset.txt /home/jupyter/mnt/datasets/dataset.txt"
   ]
  },
  {
   "cell_type": "code",
   "execution_count": 2,
   "id": "4f72af31-f2b3-43fc-9444-bff39d24cb3d",
   "metadata": {
    "execution": {
     "iopub.execute_input": "2025-03-06T21:54:31.548099Z",
     "iopub.status.busy": "2025-03-06T21:54:31.547251Z",
     "iopub.status.idle": "2025-03-06T21:54:33.726992Z",
     "shell.execute_reply": "2025-03-06T21:54:33.726308Z",
     "shell.execute_reply.started": "2025-03-06T21:54:31.548065Z"
    }
   },
   "outputs": [
    {
     "name": "stdout",
     "output_type": "stream",
     "text": [
      "\n",
      "\n",
      "\n"
     ]
    }
   ],
   "source": [
    "import tokenizers as tok\n",
    "import transformers as tr\n",
    "\n",
    "# Применяем UNK для неизвестных слов\n",
    "tokenizer = tok.Tokenizer(tok.models.BPE(unk_token=\"[UNK]\"))\n",
    "# Разбивает текст на токены по пробелам\n",
    "tokenizer.pre_tokenizer = tok.pre_tokenizers.Whitespace()\n",
    "# Применяем PAD для дополнения последовательности до определённой длины\n",
    "trainer = tok.trainers.BpeTrainer(special_tokens=[\"[PAD]\"])\n",
    "tokenizer.train([\"dataset.txt\"], trainer)\n",
    "# Включает режим дополнения, можно указать длину последовательностей токенов\n",
    "tokenizer.enable_padding()"
   ]
  },
  {
   "cell_type": "code",
   "execution_count": 52,
   "id": "1b55d124-544f-4b68-ad9d-ce706bca601b",
   "metadata": {
    "execution": {
     "iopub.execute_input": "2025-03-06T22:47:28.108997Z",
     "iopub.status.busy": "2025-03-06T22:47:28.108004Z",
     "iopub.status.idle": "2025-03-06T22:47:28.126589Z",
     "shell.execute_reply": "2025-03-06T22:47:28.126021Z",
     "shell.execute_reply.started": "2025-03-06T22:47:28.108958Z"
    },
    "tags": []
   },
   "outputs": [
    {
     "name": "stdout",
     "output_type": "stream",
     "text": [
      "Наглядно видим, как работает токенизация, также можем узнать их идентификаторы, но есть минусы - Последнее время мне стало жить тяжело. Я вижу, я стал понимать слишком много.\n",
      "Снизу представлена пара token:id\n",
      "На:328\n",
      "гля:352\n",
      "дно:320\n",
      "видим:7730\n",
      ",:8\n",
      "как:250\n",
      "работает:16456\n",
      "токе:28561\n",
      "ни:183\n",
      "зация:22302\n",
      ",:8\n",
      "также:3779\n",
      "можем:4748\n",
      "узнать:3143\n",
      "их:351\n",
      "и:146\n",
      "ден:1549\n",
      "ти:225\n",
      "фи:401\n",
      "като:12686\n",
      "ры:249\n",
      ",:8\n",
      "но:177\n",
      "есть:547\n",
      "мину:695\n",
      "сы:424\n",
      "-:9\n",
      "Последнее:21696\n",
      "время:504\n",
      "мне:358\n",
      "стало:1238\n",
      "жить:1034\n",
      "тяжело:1495\n",
      ".:10\n",
      "Я:137\n",
      "вижу:2385\n",
      ",:8\n",
      "я:169\n",
      "стал:693\n",
      "понимать:3282\n",
      "слишком:1692\n",
      "много:1025\n",
      ".:10\n"
     ]
    }
   ],
   "source": [
    "text = \"Наглядно видим, как работает токенизация, также можем узнать их идентификаторы, но есть минусы - Последнее время мне стало жить тяжело. Я вижу, я стал понимать слишком много.\"\n",
    "tokens = tokenizer.encode(text).tokens\n",
    "ids = tokenizer.encode(text).ids\n",
    "print(f'{text}\\nСнизу представлена пара token:id')\n",
    "for i, j in zip(tokens,ids):\n",
    "    print(f'{i}:{j}')"
   ]
  },
  {
   "cell_type": "code",
   "execution_count": null,
   "id": "51032f04-6096-428b-9d31-e79d32f42fdf",
   "metadata": {
    "tags": []
   },
   "outputs": [],
   "source": []
  },
  {
   "cell_type": "code",
   "execution_count": null,
   "id": "ba832b00-43dc-4dcd-b6a8-5773027ba269",
   "metadata": {
    "tags": []
   },
   "outputs": [],
   "source": []
  },
  {
   "cell_type": "code",
   "execution_count": null,
   "id": "8ac29adf-bd48-4b04-8f24-928665471fa6",
   "metadata": {},
   "outputs": [],
   "source": []
  }
 ],
 "metadata": {
  "kernelspec": {
   "display_name": "DataSphere Kernel",
   "language": "python",
   "name": "python3"
  },
  "language_info": {
   "codemirror_mode": {
    "name": "ipython",
    "version": 3
   },
   "file_extension": ".py",
   "mimetype": "text/x-python",
   "name": "python",
   "nbconvert_exporter": "python",
   "pygments_lexer": "ipython3",
   "version": "3.10.12"
  }
 },
 "nbformat": 4,
 "nbformat_minor": 5
}
